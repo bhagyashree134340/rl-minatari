{
 "cells": [
  {
   "cell_type": "code",
   "execution_count": 1,
   "id": "87facc5b-31bb-4512-98db-a54909d7416c",
   "metadata": {},
   "outputs": [
    {
     "name": "stdout",
     "output_type": "stream",
     "text": [
      "Requirement already satisfied: minatar in /Users/bhagyashreerane/miniconda3/lib/python3.11/site-packages (1.0.15)\n",
      "Requirement already satisfied: cycler>=0.10.0 in /Users/bhagyashreerane/miniconda3/lib/python3.11/site-packages (from minatar) (0.12.1)\n",
      "Requirement already satisfied: kiwisolver>=1.0.1 in /Users/bhagyashreerane/miniconda3/lib/python3.11/site-packages (from minatar) (1.4.5)\n",
      "Requirement already satisfied: matplotlib>=3.0.3 in /Users/bhagyashreerane/miniconda3/lib/python3.11/site-packages (from minatar) (3.8.3)\n",
      "Requirement already satisfied: numpy>=1.16.2 in /Users/bhagyashreerane/miniconda3/lib/python3.11/site-packages (from minatar) (1.26.1)\n",
      "Requirement already satisfied: pandas>=0.24.2 in /Users/bhagyashreerane/miniconda3/lib/python3.11/site-packages (from minatar) (2.2.3)\n",
      "Requirement already satisfied: pyparsing>=2.3.1 in /Users/bhagyashreerane/miniconda3/lib/python3.11/site-packages (from minatar) (3.1.2)\n",
      "Requirement already satisfied: python-dateutil>=2.8.0 in /Users/bhagyashreerane/miniconda3/lib/python3.11/site-packages (from minatar) (2.9.0.post0)\n",
      "Requirement already satisfied: pytz>=2018.9 in /Users/bhagyashreerane/miniconda3/lib/python3.11/site-packages (from minatar) (2024.2)\n",
      "Requirement already satisfied: scipy>=1.2.1 in /Users/bhagyashreerane/miniconda3/lib/python3.11/site-packages (from minatar) (1.14.1)\n",
      "Requirement already satisfied: seaborn>=0.9.0 in /Users/bhagyashreerane/miniconda3/lib/python3.11/site-packages (from minatar) (0.13.2)\n",
      "Requirement already satisfied: six>=1.12.0 in /Users/bhagyashreerane/miniconda3/lib/python3.11/site-packages (from minatar) (1.16.0)\n",
      "Requirement already satisfied: contourpy>=1.0.1 in /Users/bhagyashreerane/miniconda3/lib/python3.11/site-packages (from matplotlib>=3.0.3->minatar) (1.2.0)\n",
      "Requirement already satisfied: fonttools>=4.22.0 in /Users/bhagyashreerane/miniconda3/lib/python3.11/site-packages (from matplotlib>=3.0.3->minatar) (4.50.0)\n",
      "Requirement already satisfied: packaging>=20.0 in /Users/bhagyashreerane/miniconda3/lib/python3.11/site-packages (from matplotlib>=3.0.3->minatar) (23.1)\n",
      "Requirement already satisfied: pillow>=8 in /Users/bhagyashreerane/miniconda3/lib/python3.11/site-packages (from matplotlib>=3.0.3->minatar) (10.2.0)\n",
      "Requirement already satisfied: tzdata>=2022.7 in /Users/bhagyashreerane/miniconda3/lib/python3.11/site-packages (from pandas>=0.24.2->minatar) (2024.1)\n",
      "Note: you may need to restart the kernel to use updated packages.\n"
     ]
    }
   ],
   "source": [
    "pip install minatar"
   ]
  },
  {
   "cell_type": "code",
   "execution_count": 2,
   "id": "0db050c6-1ed8-44c6-8142-360692b4646c",
   "metadata": {},
   "outputs": [],
   "source": [
    "import torch\n",
    "import torch.nn as nn\n",
    "import torch.optim as optim\n",
    "import torch.nn.functional as F\n",
    "\n",
    "import copy\n",
    "import numpy as np\n",
    "import pandas as pd\n",
    "import random\n",
    "from PIL import Image\n",
    "import gymnasium as gym\n",
    "import matplotlib.pyplot as plt\n",
    "from typing import Callable\n",
    "from collections import namedtuple\n",
    "import itertools"
   ]
  },
  {
   "cell_type": "code",
   "execution_count": 3,
   "id": "cf594a09-254e-4e77-8d03-824c619abdb6",
   "metadata": {},
   "outputs": [],
   "source": [
    "class DQN(nn.Module):\n",
    "    def __init__(self, obs_shape: torch.Size, num_actions: int):\n",
    "        \"\"\"\n",
    "        Initialize the DQN network.\n",
    "        \n",
    "        :param obs_shape: Shape of the observation space\n",
    "        :param num_actions: Number of actions\n",
    "        \"\"\"\n",
    "\n",
    "        super(DQN, self).__init__()\n",
    "\n",
    "        in_channels = obs_shape[-1]  \n",
    "\n",
    "        # print(in_channels)\n",
    "        \n",
    "        self.conv1 = nn.Conv2d(in_channels=in_channels, out_channels=16, kernel_size=5, stride=1)\n",
    "        self.conv2 = nn.Conv2d(in_channels=16, out_channels=32, kernel_size=3, stride=1)\n",
    "\n",
    "        def conv_output_size(input_size, kernel_size, stride, padding=0):\n",
    "            return (input_size - kernel_size + 2 * padding) // stride + 1\n",
    "        \n",
    "        conv1_output_size = conv_output_size(obs_shape[1], 5, 1, 0) \n",
    "        conv2_output_size = conv_output_size(conv1_output_size, 3, 1, 0)\n",
    "\n",
    "        flattened_size = conv2_output_size * conv2_output_size * 32\n",
    "\n",
    "        # print(flattened_size)\n",
    "\n",
    "        self.fc1 = nn.Linear(flattened_size, 128)\n",
    "        self.output_layer = nn.Linear(128, num_actions)\n",
    "\n",
    "    def forward(self, x: torch.Tensor) -> torch.Tensor:\n",
    "        x = x.permute(0, 3, 1, 2)  \n",
    "        \n",
    "        x = F.relu(self.conv1(x))\n",
    "        x = F.relu(self.conv2(x))\n",
    "        \n",
    "        x = torch.flatten(x, start_dim=1)  \n",
    "        \n",
    "        x = F.relu(self.fc1(x))\n",
    "        x = self.output_layer(x)\n",
    "        \n",
    "        return x"
   ]
  },
  {
   "cell_type": "code",
   "execution_count": 4,
   "id": "8ad2ec46-2bfc-4a23-93d5-2869159dfa6c",
   "metadata": {},
   "outputs": [],
   "source": [
    "def make_epsilon_greedy_policy(Q: nn.Module, num_actions: int):\n",
    "    \"\"\"\n",
    "    Creates an epsilon-greedy policy based on a given Q-function and epsilon. Taken from last exercise with changes.\n",
    "\n",
    "    :param Q: The DQN network.\n",
    "    :param num_actions: Number of actions in the environment.\n",
    "\n",
    "    :returns: A function that takes the observation as an argument and returns the greedy action in form of an int.\n",
    "    \"\"\"\n",
    "\n",
    "    def policy_fn(obs: torch.Tensor, epsilon: float = 0.0):\n",
    "        \"\"\"This function takes in the observation and returns an action.\"\"\"\n",
    "        if np.random.uniform() < epsilon:\n",
    "            return np.random.randint(0, num_actions)\n",
    "        \n",
    "        # For action selection, we do not need a gradient and so we call \".detach()\"\n",
    "        return Q(obs).argmax().detach().numpy()\n",
    "\n",
    "    return policy_fn"
   ]
  },
  {
   "cell_type": "code",
   "execution_count": 5,
   "id": "83b8ed7d-3efd-47b6-be92-96314026e51d",
   "metadata": {},
   "outputs": [],
   "source": [
    "def linear_epsilon_decay(eps_start: float, eps_end: float, current_timestep: int, duration: int) -> float:\n",
    "    \"\"\"\n",
    "    Linear decay of epsilon.\n",
    "\n",
    "    :param eps_start: The initial epsilon value.\n",
    "    :param eps_end: The final epsilon value.\n",
    "    :param current_timestep: The current timestep.\n",
    "    :param duration: The duration of the schedule (in timesteps). So when schedule_duration == current_timestep, eps_end should be reached\n",
    "\n",
    "    :returns: The current epsilon.\n",
    "    \"\"\"\n",
    "\n",
    "    if current_timestep >= duration:\n",
    "        return eps_end  \n",
    "\n",
    "    decay_rate = (eps_end - eps_start) / duration\n",
    "    return eps_start + decay_rate * current_timestep\n"
   ]
  },
  {
   "cell_type": "code",
   "execution_count": null,
   "id": "73bac54d-8a0d-4697-abeb-f84046dba00e",
   "metadata": {},
   "outputs": [],
   "source": []
  }
 ],
 "metadata": {
  "kernelspec": {
   "display_name": "Python 3 (ipykernel)",
   "language": "python",
   "name": "python3"
  },
  "language_info": {
   "codemirror_mode": {
    "name": "ipython",
    "version": 3
   },
   "file_extension": ".py",
   "mimetype": "text/x-python",
   "name": "python",
   "nbconvert_exporter": "python",
   "pygments_lexer": "ipython3",
   "version": "3.11.5"
  }
 },
 "nbformat": 4,
 "nbformat_minor": 5
}
